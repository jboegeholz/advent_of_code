{
 "cells": [
  {
   "cell_type": "markdown",
   "source": [
    "# Day 01\n",
    "\n",
    "https://adventofcode.com/2021/day/1\n",
    "\n",
    "## Part 1\n",
    "To do this, count the number of times a depth measurement increases from the previous measurement. (There is no measurement before the first measurement.) In the example above, the changes are as follows:\n",
    "\n",
    " - 199 (N/A - no previous measurement)\n",
    " - 200 (increased)\n",
    " - 208 (increased)\n",
    " - 210 (increased)\n",
    " - 200 (decreased)\n",
    " - 207 (increased)\n",
    " - 240 (increased)\n",
    " - 269 (increased)\n",
    " - 260 (decreased)\n",
    " - 263 (increased)\n",
    "\n",
    "In this example, there are 7 measurements that are larger than the previous measurement.\n",
    "\n",
    "How many measurements are larger than the previous measurement?\n"
   ],
   "metadata": {
    "collapsed": false,
    "pycharm": {
     "name": "#%% md\n"
    }
   }
  },
  {
   "cell_type": "code",
   "execution_count": 8,
   "metadata": {
    "collapsed": true,
    "pycharm": {
     "name": "#%%\n"
    }
   },
   "outputs": [
    {
     "data": {
      "text/plain": "<bound method NDFrame.describe of          0\n0      159\n1      158\n2      174\n3      196\n4      197\n...    ...\n1995  8538\n1996  8543\n1997  8545\n1998  8557\n1999  8568\n\n[2000 rows x 1 columns]>"
     },
     "execution_count": 8,
     "metadata": {},
     "output_type": "execute_result"
    }
   ],
   "source": [
    "import pandas as pd\n",
    "\n",
    "df = pd.read_csv(\"./aoc_day_01_data.txt\", header=None)\n",
    "df.describe"
   ]
  },
  {
   "cell_type": "code",
   "execution_count": 9,
   "outputs": [
    {
     "data": {
      "text/plain": "      original\n0          159\n1          158\n2          174\n3          196\n4          197\n...        ...\n1995      8538\n1996      8543\n1997      8545\n1998      8557\n1999      8568\n\n[2000 rows x 1 columns]",
      "text/html": "<div>\n<style scoped>\n    .dataframe tbody tr th:only-of-type {\n        vertical-align: middle;\n    }\n\n    .dataframe tbody tr th {\n        vertical-align: top;\n    }\n\n    .dataframe thead th {\n        text-align: right;\n    }\n</style>\n<table border=\"1\" class=\"dataframe\">\n  <thead>\n    <tr style=\"text-align: right;\">\n      <th></th>\n      <th>original</th>\n    </tr>\n  </thead>\n  <tbody>\n    <tr>\n      <th>0</th>\n      <td>159</td>\n    </tr>\n    <tr>\n      <th>1</th>\n      <td>158</td>\n    </tr>\n    <tr>\n      <th>2</th>\n      <td>174</td>\n    </tr>\n    <tr>\n      <th>3</th>\n      <td>196</td>\n    </tr>\n    <tr>\n      <th>4</th>\n      <td>197</td>\n    </tr>\n    <tr>\n      <th>...</th>\n      <td>...</td>\n    </tr>\n    <tr>\n      <th>1995</th>\n      <td>8538</td>\n    </tr>\n    <tr>\n      <th>1996</th>\n      <td>8543</td>\n    </tr>\n    <tr>\n      <th>1997</th>\n      <td>8545</td>\n    </tr>\n    <tr>\n      <th>1998</th>\n      <td>8557</td>\n    </tr>\n    <tr>\n      <th>1999</th>\n      <td>8568</td>\n    </tr>\n  </tbody>\n</table>\n<p>2000 rows × 1 columns</p>\n</div>"
     },
     "execution_count": 9,
     "metadata": {},
     "output_type": "execute_result"
    }
   ],
   "source": [
    "df.columns = [\"original\"]\n",
    "\n",
    "df"
   ],
   "metadata": {
    "collapsed": false,
    "pycharm": {
     "name": "#%%\n"
    }
   }
  },
  {
   "cell_type": "code",
   "execution_count": 10,
   "outputs": [
    {
     "data": {
      "text/plain": "      original  shifted\n0          159    158.0\n1          158    174.0\n2          174    196.0\n3          196    197.0\n4          197    194.0\n...        ...      ...\n1995      8538   8543.0\n1996      8543   8545.0\n1997      8545   8557.0\n1998      8557   8568.0\n1999      8568      NaN\n\n[2000 rows x 2 columns]",
      "text/html": "<div>\n<style scoped>\n    .dataframe tbody tr th:only-of-type {\n        vertical-align: middle;\n    }\n\n    .dataframe tbody tr th {\n        vertical-align: top;\n    }\n\n    .dataframe thead th {\n        text-align: right;\n    }\n</style>\n<table border=\"1\" class=\"dataframe\">\n  <thead>\n    <tr style=\"text-align: right;\">\n      <th></th>\n      <th>original</th>\n      <th>shifted</th>\n    </tr>\n  </thead>\n  <tbody>\n    <tr>\n      <th>0</th>\n      <td>159</td>\n      <td>158.0</td>\n    </tr>\n    <tr>\n      <th>1</th>\n      <td>158</td>\n      <td>174.0</td>\n    </tr>\n    <tr>\n      <th>2</th>\n      <td>174</td>\n      <td>196.0</td>\n    </tr>\n    <tr>\n      <th>3</th>\n      <td>196</td>\n      <td>197.0</td>\n    </tr>\n    <tr>\n      <th>4</th>\n      <td>197</td>\n      <td>194.0</td>\n    </tr>\n    <tr>\n      <th>...</th>\n      <td>...</td>\n      <td>...</td>\n    </tr>\n    <tr>\n      <th>1995</th>\n      <td>8538</td>\n      <td>8543.0</td>\n    </tr>\n    <tr>\n      <th>1996</th>\n      <td>8543</td>\n      <td>8545.0</td>\n    </tr>\n    <tr>\n      <th>1997</th>\n      <td>8545</td>\n      <td>8557.0</td>\n    </tr>\n    <tr>\n      <th>1998</th>\n      <td>8557</td>\n      <td>8568.0</td>\n    </tr>\n    <tr>\n      <th>1999</th>\n      <td>8568</td>\n      <td>NaN</td>\n    </tr>\n  </tbody>\n</table>\n<p>2000 rows × 2 columns</p>\n</div>"
     },
     "execution_count": 10,
     "metadata": {},
     "output_type": "execute_result"
    }
   ],
   "source": [
    "df['shifted'] = df['original'].shift(-1)\n",
    "df\n"
   ],
   "metadata": {
    "collapsed": false,
    "pycharm": {
     "name": "#%%\n"
    }
   }
  },
  {
   "cell_type": "code",
   "execution_count": 11,
   "outputs": [
    {
     "data": {
      "text/plain": "      original  shifted  increased\n0          159    158.0      False\n1          158    174.0       True\n2          174    196.0       True\n3          196    197.0       True\n4          197    194.0      False\n...        ...      ...        ...\n1995      8538   8543.0       True\n1996      8543   8545.0       True\n1997      8545   8557.0       True\n1998      8557   8568.0       True\n1999      8568      NaN      False\n\n[2000 rows x 3 columns]",
      "text/html": "<div>\n<style scoped>\n    .dataframe tbody tr th:only-of-type {\n        vertical-align: middle;\n    }\n\n    .dataframe tbody tr th {\n        vertical-align: top;\n    }\n\n    .dataframe thead th {\n        text-align: right;\n    }\n</style>\n<table border=\"1\" class=\"dataframe\">\n  <thead>\n    <tr style=\"text-align: right;\">\n      <th></th>\n      <th>original</th>\n      <th>shifted</th>\n      <th>increased</th>\n    </tr>\n  </thead>\n  <tbody>\n    <tr>\n      <th>0</th>\n      <td>159</td>\n      <td>158.0</td>\n      <td>False</td>\n    </tr>\n    <tr>\n      <th>1</th>\n      <td>158</td>\n      <td>174.0</td>\n      <td>True</td>\n    </tr>\n    <tr>\n      <th>2</th>\n      <td>174</td>\n      <td>196.0</td>\n      <td>True</td>\n    </tr>\n    <tr>\n      <th>3</th>\n      <td>196</td>\n      <td>197.0</td>\n      <td>True</td>\n    </tr>\n    <tr>\n      <th>4</th>\n      <td>197</td>\n      <td>194.0</td>\n      <td>False</td>\n    </tr>\n    <tr>\n      <th>...</th>\n      <td>...</td>\n      <td>...</td>\n      <td>...</td>\n    </tr>\n    <tr>\n      <th>1995</th>\n      <td>8538</td>\n      <td>8543.0</td>\n      <td>True</td>\n    </tr>\n    <tr>\n      <th>1996</th>\n      <td>8543</td>\n      <td>8545.0</td>\n      <td>True</td>\n    </tr>\n    <tr>\n      <th>1997</th>\n      <td>8545</td>\n      <td>8557.0</td>\n      <td>True</td>\n    </tr>\n    <tr>\n      <th>1998</th>\n      <td>8557</td>\n      <td>8568.0</td>\n      <td>True</td>\n    </tr>\n    <tr>\n      <th>1999</th>\n      <td>8568</td>\n      <td>NaN</td>\n      <td>False</td>\n    </tr>\n  </tbody>\n</table>\n<p>2000 rows × 3 columns</p>\n</div>"
     },
     "execution_count": 11,
     "metadata": {},
     "output_type": "execute_result"
    }
   ],
   "source": [
    "df['increased'] = (df['shifted'] > df['original'])\n",
    "df"
   ],
   "metadata": {
    "collapsed": false,
    "pycharm": {
     "name": "#%%\n"
    }
   }
  },
  {
   "cell_type": "code",
   "execution_count": 12,
   "outputs": [
    {
     "data": {
      "text/plain": "1583"
     },
     "execution_count": 12,
     "metadata": {},
     "output_type": "execute_result"
    }
   ],
   "source": [
    "true_count = df['increased'].sum()\n",
    "true_count"
   ],
   "metadata": {
    "collapsed": false,
    "pycharm": {
     "name": "#%%\n"
    }
   }
  },
  {
   "cell_type": "code",
   "execution_count": 13,
   "outputs": [
    {
     "data": {
      "text/plain": "True     1583\nFalse     417\nName: increased, dtype: int64"
     },
     "execution_count": 13,
     "metadata": {},
     "output_type": "execute_result"
    }
   ],
   "source": [
    "df['increased'].value_counts(dropna=False)"
   ],
   "metadata": {
    "collapsed": false,
    "pycharm": {
     "name": "#%%\n"
    }
   }
  }
 ],
 "metadata": {
  "kernelspec": {
   "display_name": "Python 3",
   "language": "python",
   "name": "python3"
  },
  "language_info": {
   "codemirror_mode": {
    "name": "ipython",
    "version": 2
   },
   "file_extension": ".py",
   "mimetype": "text/x-python",
   "name": "python",
   "nbconvert_exporter": "python",
   "pygments_lexer": "ipython2",
   "version": "2.7.6"
  }
 },
 "nbformat": 4,
 "nbformat_minor": 0
}