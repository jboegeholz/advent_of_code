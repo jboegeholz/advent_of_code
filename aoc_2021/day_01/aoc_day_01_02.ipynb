{
 "cells": [
  {
   "cell_type": "markdown",
   "source": [
    "# Day 01\n",
    "\n",
    "## Part 2\n",
    "\n",
    "Your goal now is to count the number of times the sum of measurements in this sliding window increases from the previous sum. So, compare A with B, then compare B with C, then C with D, and so on. Stop when there aren't enough measurements left to create a new three-measurement sum.\n",
    "\n",
    "In the above example, the sum of each three-measurement window is as follows:\n",
    "\n",
    " - A: 607 (N/A - no previous sum)\n",
    " - B: 618 (increased)\n",
    " - C: 618 (no change)\n",
    " - D: 617 (decreased)\n",
    " - E: 647 (increased)\n",
    " - F: 716 (increased)\n",
    " - G: 769 (increased)\n",
    " - H: 792 (increased)\n",
    "\n",
    "In this example, there are 5 sums that are larger than the previous sum.\n",
    "\n",
    "Consider sums of a three-measurement sliding window. How many sums are larger than the previous sum?\n",
    "\n",
    "199  A       Sum A\n",
    "200  A B     Sum B\n",
    "208  A B C   Sum C\n",
    "210    B C D\n",
    "200  E   C D\n",
    "207  E F   D\n",
    "240  E F G\n",
    "269    F G H\n",
    "260      G H\n",
    "263        H\n"
   ],
   "metadata": {
    "collapsed": false,
    "pycharm": {
     "name": "#%% md\n"
    }
   }
  },
  {
   "cell_type": "code",
   "execution_count": 23,
   "outputs": [
    {
     "data": {
      "text/plain": "      original\n0          159\n1          158\n2          174\n3          196\n4          197\n...        ...\n1995      8538\n1996      8543\n1997      8545\n1998      8557\n1999      8568\n\n[2000 rows x 1 columns]",
      "text/html": "<div>\n<style scoped>\n    .dataframe tbody tr th:only-of-type {\n        vertical-align: middle;\n    }\n\n    .dataframe tbody tr th {\n        vertical-align: top;\n    }\n\n    .dataframe thead th {\n        text-align: right;\n    }\n</style>\n<table border=\"1\" class=\"dataframe\">\n  <thead>\n    <tr style=\"text-align: right;\">\n      <th></th>\n      <th>original</th>\n    </tr>\n  </thead>\n  <tbody>\n    <tr>\n      <th>0</th>\n      <td>159</td>\n    </tr>\n    <tr>\n      <th>1</th>\n      <td>158</td>\n    </tr>\n    <tr>\n      <th>2</th>\n      <td>174</td>\n    </tr>\n    <tr>\n      <th>3</th>\n      <td>196</td>\n    </tr>\n    <tr>\n      <th>4</th>\n      <td>197</td>\n    </tr>\n    <tr>\n      <th>...</th>\n      <td>...</td>\n    </tr>\n    <tr>\n      <th>1995</th>\n      <td>8538</td>\n    </tr>\n    <tr>\n      <th>1996</th>\n      <td>8543</td>\n    </tr>\n    <tr>\n      <th>1997</th>\n      <td>8545</td>\n    </tr>\n    <tr>\n      <th>1998</th>\n      <td>8557</td>\n    </tr>\n    <tr>\n      <th>1999</th>\n      <td>8568</td>\n    </tr>\n  </tbody>\n</table>\n<p>2000 rows × 1 columns</p>\n</div>"
     },
     "execution_count": 23,
     "metadata": {},
     "output_type": "execute_result"
    }
   ],
   "source": [
    "import pandas as pd\n",
    "\n",
    "df = pd.read_csv(\"./aoc_day_01_data.txt\", header=None)\n",
    "df.columns = [\"original\"]\n",
    "df"
   ],
   "metadata": {
    "collapsed": false,
    "pycharm": {
     "name": "#%%\n"
    }
   }
  },
  {
   "cell_type": "code",
   "execution_count": 24,
   "outputs": [
    {
     "data": {
      "text/plain": "      original  rolling_sum\n0          159        491.0\n1          158        528.0\n2          174        567.0\n3          196        587.0\n4          197        600.0\n...        ...          ...\n1995      8538      25626.0\n1996      8543      25645.0\n1997      8545      25670.0\n1998      8557          NaN\n1999      8568          NaN\n\n[2000 rows x 2 columns]",
      "text/html": "<div>\n<style scoped>\n    .dataframe tbody tr th:only-of-type {\n        vertical-align: middle;\n    }\n\n    .dataframe tbody tr th {\n        vertical-align: top;\n    }\n\n    .dataframe thead th {\n        text-align: right;\n    }\n</style>\n<table border=\"1\" class=\"dataframe\">\n  <thead>\n    <tr style=\"text-align: right;\">\n      <th></th>\n      <th>original</th>\n      <th>rolling_sum</th>\n    </tr>\n  </thead>\n  <tbody>\n    <tr>\n      <th>0</th>\n      <td>159</td>\n      <td>491.0</td>\n    </tr>\n    <tr>\n      <th>1</th>\n      <td>158</td>\n      <td>528.0</td>\n    </tr>\n    <tr>\n      <th>2</th>\n      <td>174</td>\n      <td>567.0</td>\n    </tr>\n    <tr>\n      <th>3</th>\n      <td>196</td>\n      <td>587.0</td>\n    </tr>\n    <tr>\n      <th>4</th>\n      <td>197</td>\n      <td>600.0</td>\n    </tr>\n    <tr>\n      <th>...</th>\n      <td>...</td>\n      <td>...</td>\n    </tr>\n    <tr>\n      <th>1995</th>\n      <td>8538</td>\n      <td>25626.0</td>\n    </tr>\n    <tr>\n      <th>1996</th>\n      <td>8543</td>\n      <td>25645.0</td>\n    </tr>\n    <tr>\n      <th>1997</th>\n      <td>8545</td>\n      <td>25670.0</td>\n    </tr>\n    <tr>\n      <th>1998</th>\n      <td>8557</td>\n      <td>NaN</td>\n    </tr>\n    <tr>\n      <th>1999</th>\n      <td>8568</td>\n      <td>NaN</td>\n    </tr>\n  </tbody>\n</table>\n<p>2000 rows × 2 columns</p>\n</div>"
     },
     "execution_count": 24,
     "metadata": {},
     "output_type": "execute_result"
    }
   ],
   "source": [
    "indexer = pd.api.indexers.FixedForwardWindowIndexer(window_size=3)\n",
    "df[\"rolling_sum\"] = df.original.rolling(window=indexer).sum()\n",
    "df"
   ],
   "metadata": {
    "collapsed": false,
    "pycharm": {
     "name": "#%%\n"
    }
   }
  },
  {
   "cell_type": "code",
   "execution_count": 25,
   "outputs": [
    {
     "data": {
      "text/plain": "      original  rolling_sum  shifted_rs\n0          159        491.0       528.0\n1          158        528.0       567.0\n2          174        567.0       587.0\n3          196        587.0       600.0\n4          197        600.0       616.0\n...        ...          ...         ...\n1995      8538      25626.0     25645.0\n1996      8543      25645.0     25670.0\n1997      8545      25670.0         NaN\n1998      8557          NaN         NaN\n1999      8568          NaN         NaN\n\n[2000 rows x 3 columns]",
      "text/html": "<div>\n<style scoped>\n    .dataframe tbody tr th:only-of-type {\n        vertical-align: middle;\n    }\n\n    .dataframe tbody tr th {\n        vertical-align: top;\n    }\n\n    .dataframe thead th {\n        text-align: right;\n    }\n</style>\n<table border=\"1\" class=\"dataframe\">\n  <thead>\n    <tr style=\"text-align: right;\">\n      <th></th>\n      <th>original</th>\n      <th>rolling_sum</th>\n      <th>shifted_rs</th>\n    </tr>\n  </thead>\n  <tbody>\n    <tr>\n      <th>0</th>\n      <td>159</td>\n      <td>491.0</td>\n      <td>528.0</td>\n    </tr>\n    <tr>\n      <th>1</th>\n      <td>158</td>\n      <td>528.0</td>\n      <td>567.0</td>\n    </tr>\n    <tr>\n      <th>2</th>\n      <td>174</td>\n      <td>567.0</td>\n      <td>587.0</td>\n    </tr>\n    <tr>\n      <th>3</th>\n      <td>196</td>\n      <td>587.0</td>\n      <td>600.0</td>\n    </tr>\n    <tr>\n      <th>4</th>\n      <td>197</td>\n      <td>600.0</td>\n      <td>616.0</td>\n    </tr>\n    <tr>\n      <th>...</th>\n      <td>...</td>\n      <td>...</td>\n      <td>...</td>\n    </tr>\n    <tr>\n      <th>1995</th>\n      <td>8538</td>\n      <td>25626.0</td>\n      <td>25645.0</td>\n    </tr>\n    <tr>\n      <th>1996</th>\n      <td>8543</td>\n      <td>25645.0</td>\n      <td>25670.0</td>\n    </tr>\n    <tr>\n      <th>1997</th>\n      <td>8545</td>\n      <td>25670.0</td>\n      <td>NaN</td>\n    </tr>\n    <tr>\n      <th>1998</th>\n      <td>8557</td>\n      <td>NaN</td>\n      <td>NaN</td>\n    </tr>\n    <tr>\n      <th>1999</th>\n      <td>8568</td>\n      <td>NaN</td>\n      <td>NaN</td>\n    </tr>\n  </tbody>\n</table>\n<p>2000 rows × 3 columns</p>\n</div>"
     },
     "execution_count": 25,
     "metadata": {},
     "output_type": "execute_result"
    }
   ],
   "source": [
    "df['shifted_rs'] = df['rolling_sum'].shift(-1)\n",
    "df"
   ],
   "metadata": {
    "collapsed": false,
    "pycharm": {
     "name": "#%%\n"
    }
   }
  },
  {
   "cell_type": "code",
   "execution_count": 26,
   "outputs": [
    {
     "data": {
      "text/plain": "      original  rolling_sum  shifted_rs  increased_rs\n0          159        491.0       528.0          True\n1          158        528.0       567.0          True\n2          174        567.0       587.0          True\n3          196        587.0       600.0          True\n4          197        600.0       616.0          True\n...        ...          ...         ...           ...\n1995      8538      25626.0     25645.0          True\n1996      8543      25645.0     25670.0          True\n1997      8545      25670.0         NaN         False\n1998      8557          NaN         NaN         False\n1999      8568          NaN         NaN         False\n\n[2000 rows x 4 columns]",
      "text/html": "<div>\n<style scoped>\n    .dataframe tbody tr th:only-of-type {\n        vertical-align: middle;\n    }\n\n    .dataframe tbody tr th {\n        vertical-align: top;\n    }\n\n    .dataframe thead th {\n        text-align: right;\n    }\n</style>\n<table border=\"1\" class=\"dataframe\">\n  <thead>\n    <tr style=\"text-align: right;\">\n      <th></th>\n      <th>original</th>\n      <th>rolling_sum</th>\n      <th>shifted_rs</th>\n      <th>increased_rs</th>\n    </tr>\n  </thead>\n  <tbody>\n    <tr>\n      <th>0</th>\n      <td>159</td>\n      <td>491.0</td>\n      <td>528.0</td>\n      <td>True</td>\n    </tr>\n    <tr>\n      <th>1</th>\n      <td>158</td>\n      <td>528.0</td>\n      <td>567.0</td>\n      <td>True</td>\n    </tr>\n    <tr>\n      <th>2</th>\n      <td>174</td>\n      <td>567.0</td>\n      <td>587.0</td>\n      <td>True</td>\n    </tr>\n    <tr>\n      <th>3</th>\n      <td>196</td>\n      <td>587.0</td>\n      <td>600.0</td>\n      <td>True</td>\n    </tr>\n    <tr>\n      <th>4</th>\n      <td>197</td>\n      <td>600.0</td>\n      <td>616.0</td>\n      <td>True</td>\n    </tr>\n    <tr>\n      <th>...</th>\n      <td>...</td>\n      <td>...</td>\n      <td>...</td>\n      <td>...</td>\n    </tr>\n    <tr>\n      <th>1995</th>\n      <td>8538</td>\n      <td>25626.0</td>\n      <td>25645.0</td>\n      <td>True</td>\n    </tr>\n    <tr>\n      <th>1996</th>\n      <td>8543</td>\n      <td>25645.0</td>\n      <td>25670.0</td>\n      <td>True</td>\n    </tr>\n    <tr>\n      <th>1997</th>\n      <td>8545</td>\n      <td>25670.0</td>\n      <td>NaN</td>\n      <td>False</td>\n    </tr>\n    <tr>\n      <th>1998</th>\n      <td>8557</td>\n      <td>NaN</td>\n      <td>NaN</td>\n      <td>False</td>\n    </tr>\n    <tr>\n      <th>1999</th>\n      <td>8568</td>\n      <td>NaN</td>\n      <td>NaN</td>\n      <td>False</td>\n    </tr>\n  </tbody>\n</table>\n<p>2000 rows × 4 columns</p>\n</div>"
     },
     "execution_count": 26,
     "metadata": {},
     "output_type": "execute_result"
    }
   ],
   "source": [
    "df['increased_rs'] = (df['shifted_rs'] > df['rolling_sum'])\n",
    "df"
   ],
   "metadata": {
    "collapsed": false,
    "pycharm": {
     "name": "#%%\n"
    }
   }
  },
  {
   "cell_type": "code",
   "execution_count": 27,
   "outputs": [
    {
     "data": {
      "text/plain": "1627"
     },
     "execution_count": 27,
     "metadata": {},
     "output_type": "execute_result"
    }
   ],
   "source": [
    "true_count = df['increased_rs'].sum()\n",
    "true_count"
   ],
   "metadata": {
    "collapsed": false,
    "pycharm": {
     "name": "#%%\n"
    }
   }
  }
 ],
 "metadata": {
  "kernelspec": {
   "display_name": "Python 3",
   "language": "python",
   "name": "python3"
  },
  "language_info": {
   "codemirror_mode": {
    "name": "ipython",
    "version": 2
   },
   "file_extension": ".py",
   "mimetype": "text/x-python",
   "name": "python",
   "nbconvert_exporter": "python",
   "pygments_lexer": "ipython2",
   "version": "2.7.6"
  }
 },
 "nbformat": 4,
 "nbformat_minor": 0
}